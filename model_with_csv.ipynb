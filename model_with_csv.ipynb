{
 "cells": [
  {
   "cell_type": "code",
   "execution_count": 1,
   "id": "38105a6e-fc36-4547-8aaf-e0a2c5d1fb68",
   "metadata": {},
   "outputs": [
    {
     "name": "stdout",
     "output_type": "stream",
     "text": [
      "Index(['filepath', 'label'], dtype='object')\n"
     ]
    },
    {
     "name": "stderr",
     "output_type": "stream",
     "text": [
      "C:\\Users\\Noor Ul Huda\\AppData\\Local\\Programs\\Python\\Python312\\Lib\\site-packages\\keras\\src\\layers\\convolutional\\base_conv.py:107: UserWarning: Do not pass an `input_shape`/`input_dim` argument to a layer. When using Sequential models, prefer using an `Input(shape)` object as the first layer in the model instead.\n",
      "  super().__init__(activity_regularizer=activity_regularizer, **kwargs)\n"
     ]
    },
    {
     "name": "stdout",
     "output_type": "stream",
     "text": [
      "Epoch 1/10\n",
      "\u001b[1m69/69\u001b[0m \u001b[32m━━━━━━━━━━━━━━━━━━━━\u001b[0m\u001b[37m\u001b[0m \u001b[1m115s\u001b[0m 1s/step - accuracy: 0.5235 - loss: 3.8243 - val_accuracy: 0.6734 - val_loss: 1.0786\n",
      "Epoch 2/10\n",
      "\u001b[1m69/69\u001b[0m \u001b[32m━━━━━━━━━━━━━━━━━━━━\u001b[0m\u001b[37m\u001b[0m \u001b[1m99s\u001b[0m 1s/step - accuracy: 0.6481 - loss: 1.1358 - val_accuracy: 0.7044 - val_loss: 0.9653\n",
      "Epoch 3/10\n",
      "\u001b[1m69/69\u001b[0m \u001b[32m━━━━━━━━━━━━━━━━━━━━\u001b[0m\u001b[37m\u001b[0m \u001b[1m150s\u001b[0m 2s/step - accuracy: 0.6953 - loss: 0.9508 - val_accuracy: 0.6934 - val_loss: 0.9156\n",
      "Epoch 4/10\n",
      "\u001b[1m69/69\u001b[0m \u001b[32m━━━━━━━━━━━━━━━━━━━━\u001b[0m\u001b[37m\u001b[0m \u001b[1m114s\u001b[0m 2s/step - accuracy: 0.7216 - loss: 0.8369 - val_accuracy: 0.7482 - val_loss: 0.9002\n",
      "Epoch 5/10\n",
      "\u001b[1m69/69\u001b[0m \u001b[32m━━━━━━━━━━━━━━━━━━━━\u001b[0m\u001b[37m\u001b[0m \u001b[1m118s\u001b[0m 2s/step - accuracy: 0.7608 - loss: 0.7334 - val_accuracy: 0.6971 - val_loss: 0.8986\n",
      "Epoch 6/10\n",
      "\u001b[1m69/69\u001b[0m \u001b[32m━━━━━━━━━━━━━━━━━━━━\u001b[0m\u001b[37m\u001b[0m \u001b[1m133s\u001b[0m 2s/step - accuracy: 0.7807 - loss: 0.6460 - val_accuracy: 0.7573 - val_loss: 0.8139\n",
      "Epoch 7/10\n",
      "\u001b[1m69/69\u001b[0m \u001b[32m━━━━━━━━━━━━━━━━━━━━\u001b[0m\u001b[37m\u001b[0m \u001b[1m99s\u001b[0m 1s/step - accuracy: 0.8167 - loss: 0.5300 - val_accuracy: 0.7445 - val_loss: 0.8028\n",
      "Epoch 8/10\n",
      "\u001b[1m69/69\u001b[0m \u001b[32m━━━━━━━━━━━━━━━━━━━━\u001b[0m\u001b[37m\u001b[0m \u001b[1m96s\u001b[0m 1s/step - accuracy: 0.8500 - loss: 0.4421 - val_accuracy: 0.7628 - val_loss: 0.9191\n",
      "Epoch 9/10\n",
      "\u001b[1m69/69\u001b[0m \u001b[32m━━━━━━━━━━━━━━━━━━━━\u001b[0m\u001b[37m\u001b[0m \u001b[1m99s\u001b[0m 1s/step - accuracy: 0.8894 - loss: 0.3514 - val_accuracy: 0.7956 - val_loss: 1.0166\n",
      "Epoch 10/10\n",
      "\u001b[1m69/69\u001b[0m \u001b[32m━━━━━━━━━━━━━━━━━━━━\u001b[0m\u001b[37m\u001b[0m \u001b[1m106s\u001b[0m 2s/step - accuracy: 0.8937 - loss: 0.3295 - val_accuracy: 0.8011 - val_loss: 1.0814\n"
     ]
    },
    {
     "name": "stderr",
     "output_type": "stream",
     "text": [
      "WARNING:absl:You are saving your model as an HDF5 file via `model.save()` or `keras.saving.save_model(model)`. This file format is considered legacy. We recommend using instead the native Keras format, e.g. `model.save('my_model.keras')` or `keras.saving.save_model(model, 'my_model.keras')`. \n"
     ]
    },
    {
     "name": "stdout",
     "output_type": "stream",
     "text": [
      "✅ Model trained and saved successfully.\n"
     ]
    }
   ],
   "source": [
    "import os\n",
    "import numpy as np\n",
    "import pandas as pd\n",
    "import tensorflow as tf\n",
    "from tensorflow.keras.models import Sequential\n",
    "from tensorflow.keras.layers import Conv2D, MaxPooling2D, Flatten, Dense, Dropout\n",
    "from tensorflow.keras.preprocessing.image import load_img, img_to_array\n",
    "from sklearn.model_selection import train_test_split\n",
    "from sklearn.preprocessing import LabelEncoder\n",
    "\n",
    "# Config\n",
    "IMAGE_SIZE = 224\n",
    "BATCH_SIZE = 32\n",
    "EPOCHS = 10\n",
    "dataset_path = \"dataset_fyp1\"\n",
    "image_dir = os.path.join(dataset_path)\n",
    "label_path = \"dataset.csv\"  # ✅ fixed path\n",
    "\n",
    "# Load CSV\n",
    "df = pd.read_csv(label_path)\n",
    "print(df.columns)\n",
    "\n",
    "# Add full image file path\n",
    "df['filepath'] = df['filepath']\n",
    "\n",
    "# Label Encoding\n",
    "label_encoder = LabelEncoder()\n",
    "df['label_encoded'] = label_encoder.fit_transform(df['label'])  # 👈 'label' column must exist\n",
    "\n",
    "# Train/Val Split\n",
    "train_paths, val_paths, train_labels, val_labels = train_test_split(\n",
    "    df['filepath'], df['label_encoded'], test_size=0.2, random_state=42)\n",
    "\n",
    "# Image loading function\n",
    "def load_images(image_paths):\n",
    "    images = []\n",
    "    for path in image_paths:\n",
    "        img = load_img(path, target_size=(IMAGE_SIZE, IMAGE_SIZE))\n",
    "        img = img_to_array(img) / 255.0\n",
    "        images.append(img)\n",
    "    return np.array(images)\n",
    "\n",
    "# Load image arrays\n",
    "X_train = load_images(train_paths)\n",
    "X_val = load_images(val_paths)\n",
    "\n",
    "# Model\n",
    "model = Sequential([\n",
    "    Conv2D(32, (3, 3), activation='relu', input_shape=(IMAGE_SIZE, IMAGE_SIZE, 3)),\n",
    "    MaxPooling2D(2, 2),\n",
    "    Conv2D(64, (3, 3), activation='relu'),\n",
    "    MaxPooling2D(2, 2),\n",
    "    Flatten(),\n",
    "    Dense(128, activation='relu'),\n",
    "    Dropout(0.5),\n",
    "    Dense(len(label_encoder.classes_), activation='softmax')  # 🔥 multi-class classification\n",
    "])\n",
    "\n",
    "# Compile\n",
    "model.compile(optimizer='adam', loss='sparse_categorical_crossentropy', metrics=['accuracy'])\n",
    "\n",
    "# Train\n",
    "history = model.fit(X_train, train_labels, validation_data=(X_val, val_labels), epochs=EPOCHS)\n",
    "\n",
    "# Save\n",
    "model.save(\"skin_single_label_model.h5\")\n",
    "print(\"✅ Model trained and saved successfully.\")\n"
   ]
  },
  {
   "cell_type": "code",
   "execution_count": null,
   "id": "c08a4172-0daa-40e2-96ba-5a73359bff09",
   "metadata": {},
   "outputs": [
    {
     "name": "stderr",
     "output_type": "stream",
     "text": [
      "Downloading...\n",
      "From (original): https://drive.google.com/uc?id=1SFNfAgt7CmfoWyuqtAjlqI47xexqNMjS\n",
      "From (redirected): https://drive.google.com/uc?id=1SFNfAgt7CmfoWyuqtAjlqI47xexqNMjS&confirm=t&uuid=cc61a15f-663c-444f-b658-483499755f73\n",
      "To: C:\\Users\\Noor Ul Huda\\OneDrive\\Desktop\\FYP model\\skin_single_label_model.h5\n",
      " 40%|███████████████████████████████▉                                               | 116M/287M [01:14<01:24, 2.04MB/s]"
     ]
    }
   ],
   "source": [
    "from tensorflow.keras.models import load_model\n",
    "from tensorflow.keras.preprocessing.image import load_img, img_to_array\n",
    "import numpy as np\n",
    "\n",
    "import gdown\n",
    "from tensorflow.keras.models import load_model\n",
    "\n",
    "# Step 1: Install `gdown` if not already done:\n",
    "# pip install gdown\n",
    "\n",
    "# Google Drive file ID\n",
    "file_id = \"1SFNfAgt7CmfoWyuqtAjlqI47xexqNMjS\"\n",
    "\n",
    "# Option 1: As file ID only (recommended)\n",
    "gdown.download(id=file_id, output=\"skin_single_label_model.h5\", quiet=False)\n",
    "\n",
    "# Option 2: Or full URL with fuzzy matching\n",
    "# gdown.download(url=\"https://drive.google.com/file/d/1SFNfAgt7CmfoWyuqtAjlqI47xexqNMjS/view?usp=sharing\", output=\"skin_model.h5\", fuzzy=True)\n",
    "\n",
    "\n",
    "\n",
    "\n",
    "\n",
    "\n",
    "\n",
    "# Load model\n",
    "model = load_model(\"skin_single_label_model.h5\")  # ✅ Make sure it's the single-label model\n",
    "\n",
    "# Class labels (in the order used during training)\n",
    "class_labels = ['acne', 'blackhead', 'dark_circle', 'dark-spots', 'dry_skin', 'eye_bags','oiliness','redness','wrinkle']  # Update based on your classes\n",
    "\n",
    "# Load and preprocess image\n",
    "img_path = r\"C:\\\\Users\\\\Noor Ul Huda\\\\OneDrive\\\\Desktop\\\\te.jpg\"\n",
    "img = load_img(img_path, target_size=(224, 224))\n",
    "img_array = img_to_array(img) / 255.0\n",
    "img_array = np.expand_dims(img_array, axis=0)\n",
    "\n",
    "# Predict\n",
    "predictions = model.predict(img_array)\n",
    "predicted_class_index = np.argmax(predictions[0])\n",
    "predicted_class_label = class_labels[predicted_class_index]\n",
    "confidence = predictions[0][predicted_class_index]\n",
    "\n",
    "# Output\n",
    "print(f\"Predicted class: {predicted_class_label} ({confidence:.2f} confidence)\")\n"
   ]
  },
  {
   "cell_type": "code",
   "execution_count": 10,
   "id": "be5f5ffa-0f0d-4311-a4b4-53b8def8effc",
   "metadata": {},
   "outputs": [
    {
     "name": "stdout",
     "output_type": "stream",
     "text": [
      "📊 Final Training Accuracy: 89.68%\n",
      "📊 Final Validation Accuracy: 78.10%\n"
     ]
    }
   ],
   "source": [
    "final_train_acc = history.history['accuracy'][-1]\n",
    "final_val_acc = history.history['val_accuracy'][-1]\n",
    "\n",
    "print(f\"📊 Final Training Accuracy: {final_train_acc * 100:.2f}%\")\n",
    "print(f\"📊 Final Validation Accuracy: {final_val_acc * 100:.2f}%\")\n"
   ]
  },
  {
   "cell_type": "code",
   "execution_count": 20,
   "id": "80f51957-133b-4dbb-a912-7fa0a9af8fee",
   "metadata": {},
   "outputs": [
    {
     "name": "stdout",
     "output_type": "stream",
     "text": [
      "✅ class_labels.pkl saved.\n"
     ]
    }
   ],
   "source": [
    "import pickle\n",
    "\n",
    "# Save the class_labels list\n",
    "with open(\"class_labels.pkl\", \"wb\") as f:\n",
    "    pickle.dump(class_labels, f)\n",
    "\n",
    "print(\"✅ class_labels.pkl saved.\")\n"
   ]
  },
  {
   "cell_type": "code",
   "execution_count": null,
   "id": "137a37a5-f937-4fb4-9bf0-ef24949f77e5",
   "metadata": {},
   "outputs": [],
   "source": []
  }
 ],
 "metadata": {
  "kernelspec": {
   "display_name": "Python 3 (ipykernel)",
   "language": "python",
   "name": "python3"
  },
  "language_info": {
   "codemirror_mode": {
    "name": "ipython",
    "version": 3
   },
   "file_extension": ".py",
   "mimetype": "text/x-python",
   "name": "python",
   "nbconvert_exporter": "python",
   "pygments_lexer": "ipython3",
   "version": "3.12.4"
  }
 },
 "nbformat": 4,
 "nbformat_minor": 5
}
